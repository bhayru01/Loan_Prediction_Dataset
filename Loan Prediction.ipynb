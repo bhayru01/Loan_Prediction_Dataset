{
 "cells": [
  {
   "cell_type": "code",
   "execution_count": 1,
   "metadata": {},
   "outputs": [],
   "source": [
    "import pandas as pd\n",
    "import numpy as np\n",
    "import seaborn as sns\n",
    "import matplotlib as plt\n",
    "%matplotlib inline"
   ]
  },
  {
   "cell_type": "markdown",
   "metadata": {},
   "source": [
    "### IMPORTING DATA"
   ]
  },
  {
   "cell_type": "code",
   "execution_count": 121,
   "metadata": {},
   "outputs": [],
   "source": [
    "data = pd.read_csv('train.csv', index_col = 'Loan_ID')"
   ]
  },
  {
   "cell_type": "markdown",
   "metadata": {},
   "source": [
    "### DATA EXPLORATION"
   ]
  },
  {
   "cell_type": "code",
   "execution_count": 122,
   "metadata": {},
   "outputs": [
    {
     "data": {
      "text/html": [
       "<div>\n",
       "<style scoped>\n",
       "    .dataframe tbody tr th:only-of-type {\n",
       "        vertical-align: middle;\n",
       "    }\n",
       "\n",
       "    .dataframe tbody tr th {\n",
       "        vertical-align: top;\n",
       "    }\n",
       "\n",
       "    .dataframe thead th {\n",
       "        text-align: right;\n",
       "    }\n",
       "</style>\n",
       "<table border=\"1\" class=\"dataframe\">\n",
       "  <thead>\n",
       "    <tr style=\"text-align: right;\">\n",
       "      <th></th>\n",
       "      <th>Gender</th>\n",
       "      <th>Married</th>\n",
       "      <th>Dependents</th>\n",
       "      <th>Education</th>\n",
       "      <th>Self_Employed</th>\n",
       "      <th>ApplicantIncome</th>\n",
       "      <th>CoapplicantIncome</th>\n",
       "      <th>LoanAmount</th>\n",
       "      <th>Loan_Amount_Term</th>\n",
       "      <th>Credit_History</th>\n",
       "      <th>Property_Area</th>\n",
       "      <th>Loan_Status</th>\n",
       "    </tr>\n",
       "    <tr>\n",
       "      <th>Loan_ID</th>\n",
       "      <th></th>\n",
       "      <th></th>\n",
       "      <th></th>\n",
       "      <th></th>\n",
       "      <th></th>\n",
       "      <th></th>\n",
       "      <th></th>\n",
       "      <th></th>\n",
       "      <th></th>\n",
       "      <th></th>\n",
       "      <th></th>\n",
       "      <th></th>\n",
       "    </tr>\n",
       "  </thead>\n",
       "  <tbody>\n",
       "    <tr>\n",
       "      <td>LP001002</td>\n",
       "      <td>Male</td>\n",
       "      <td>No</td>\n",
       "      <td>0</td>\n",
       "      <td>Graduate</td>\n",
       "      <td>No</td>\n",
       "      <td>5849</td>\n",
       "      <td>0.0</td>\n",
       "      <td>NaN</td>\n",
       "      <td>360.0</td>\n",
       "      <td>1.0</td>\n",
       "      <td>Urban</td>\n",
       "      <td>Y</td>\n",
       "    </tr>\n",
       "    <tr>\n",
       "      <td>LP001003</td>\n",
       "      <td>Male</td>\n",
       "      <td>Yes</td>\n",
       "      <td>1</td>\n",
       "      <td>Graduate</td>\n",
       "      <td>No</td>\n",
       "      <td>4583</td>\n",
       "      <td>1508.0</td>\n",
       "      <td>128.0</td>\n",
       "      <td>360.0</td>\n",
       "      <td>1.0</td>\n",
       "      <td>Rural</td>\n",
       "      <td>N</td>\n",
       "    </tr>\n",
       "    <tr>\n",
       "      <td>LP001005</td>\n",
       "      <td>Male</td>\n",
       "      <td>Yes</td>\n",
       "      <td>0</td>\n",
       "      <td>Graduate</td>\n",
       "      <td>Yes</td>\n",
       "      <td>3000</td>\n",
       "      <td>0.0</td>\n",
       "      <td>66.0</td>\n",
       "      <td>360.0</td>\n",
       "      <td>1.0</td>\n",
       "      <td>Urban</td>\n",
       "      <td>Y</td>\n",
       "    </tr>\n",
       "    <tr>\n",
       "      <td>LP001006</td>\n",
       "      <td>Male</td>\n",
       "      <td>Yes</td>\n",
       "      <td>0</td>\n",
       "      <td>Not Graduate</td>\n",
       "      <td>No</td>\n",
       "      <td>2583</td>\n",
       "      <td>2358.0</td>\n",
       "      <td>120.0</td>\n",
       "      <td>360.0</td>\n",
       "      <td>1.0</td>\n",
       "      <td>Urban</td>\n",
       "      <td>Y</td>\n",
       "    </tr>\n",
       "    <tr>\n",
       "      <td>LP001008</td>\n",
       "      <td>Male</td>\n",
       "      <td>No</td>\n",
       "      <td>0</td>\n",
       "      <td>Graduate</td>\n",
       "      <td>No</td>\n",
       "      <td>6000</td>\n",
       "      <td>0.0</td>\n",
       "      <td>141.0</td>\n",
       "      <td>360.0</td>\n",
       "      <td>1.0</td>\n",
       "      <td>Urban</td>\n",
       "      <td>Y</td>\n",
       "    </tr>\n",
       "  </tbody>\n",
       "</table>\n",
       "</div>"
      ],
      "text/plain": [
       "         Gender Married Dependents     Education Self_Employed  \\\n",
       "Loan_ID                                                          \n",
       "LP001002   Male      No          0      Graduate            No   \n",
       "LP001003   Male     Yes          1      Graduate            No   \n",
       "LP001005   Male     Yes          0      Graduate           Yes   \n",
       "LP001006   Male     Yes          0  Not Graduate            No   \n",
       "LP001008   Male      No          0      Graduate            No   \n",
       "\n",
       "          ApplicantIncome  CoapplicantIncome  LoanAmount  Loan_Amount_Term  \\\n",
       "Loan_ID                                                                      \n",
       "LP001002             5849                0.0         NaN             360.0   \n",
       "LP001003             4583             1508.0       128.0             360.0   \n",
       "LP001005             3000                0.0        66.0             360.0   \n",
       "LP001006             2583             2358.0       120.0             360.0   \n",
       "LP001008             6000                0.0       141.0             360.0   \n",
       "\n",
       "          Credit_History Property_Area Loan_Status  \n",
       "Loan_ID                                             \n",
       "LP001002             1.0         Urban           Y  \n",
       "LP001003             1.0         Rural           N  \n",
       "LP001005             1.0         Urban           Y  \n",
       "LP001006             1.0         Urban           Y  \n",
       "LP001008             1.0         Urban           Y  "
      ]
     },
     "execution_count": 122,
     "metadata": {},
     "output_type": "execute_result"
    }
   ],
   "source": [
    "data.head()"
   ]
  },
  {
   "cell_type": "code",
   "execution_count": 123,
   "metadata": {},
   "outputs": [
    {
     "data": {
      "text/plain": [
       "(614, 12)"
      ]
     },
     "execution_count": 123,
     "metadata": {},
     "output_type": "execute_result"
    }
   ],
   "source": [
    "data.shape"
   ]
  },
  {
   "cell_type": "code",
   "execution_count": 124,
   "metadata": {},
   "outputs": [
    {
     "data": {
      "text/html": [
       "<div>\n",
       "<style scoped>\n",
       "    .dataframe tbody tr th:only-of-type {\n",
       "        vertical-align: middle;\n",
       "    }\n",
       "\n",
       "    .dataframe tbody tr th {\n",
       "        vertical-align: top;\n",
       "    }\n",
       "\n",
       "    .dataframe thead th {\n",
       "        text-align: right;\n",
       "    }\n",
       "</style>\n",
       "<table border=\"1\" class=\"dataframe\">\n",
       "  <thead>\n",
       "    <tr style=\"text-align: right;\">\n",
       "      <th></th>\n",
       "      <th>ApplicantIncome</th>\n",
       "      <th>CoapplicantIncome</th>\n",
       "      <th>LoanAmount</th>\n",
       "      <th>Loan_Amount_Term</th>\n",
       "      <th>Credit_History</th>\n",
       "    </tr>\n",
       "  </thead>\n",
       "  <tbody>\n",
       "    <tr>\n",
       "      <td>count</td>\n",
       "      <td>614.000000</td>\n",
       "      <td>614.000000</td>\n",
       "      <td>592.000000</td>\n",
       "      <td>600.00000</td>\n",
       "      <td>564.000000</td>\n",
       "    </tr>\n",
       "    <tr>\n",
       "      <td>mean</td>\n",
       "      <td>5403.459283</td>\n",
       "      <td>1621.245798</td>\n",
       "      <td>146.412162</td>\n",
       "      <td>342.00000</td>\n",
       "      <td>0.842199</td>\n",
       "    </tr>\n",
       "    <tr>\n",
       "      <td>std</td>\n",
       "      <td>6109.041673</td>\n",
       "      <td>2926.248369</td>\n",
       "      <td>85.587325</td>\n",
       "      <td>65.12041</td>\n",
       "      <td>0.364878</td>\n",
       "    </tr>\n",
       "    <tr>\n",
       "      <td>min</td>\n",
       "      <td>150.000000</td>\n",
       "      <td>0.000000</td>\n",
       "      <td>9.000000</td>\n",
       "      <td>12.00000</td>\n",
       "      <td>0.000000</td>\n",
       "    </tr>\n",
       "    <tr>\n",
       "      <td>25%</td>\n",
       "      <td>2877.500000</td>\n",
       "      <td>0.000000</td>\n",
       "      <td>100.000000</td>\n",
       "      <td>360.00000</td>\n",
       "      <td>1.000000</td>\n",
       "    </tr>\n",
       "    <tr>\n",
       "      <td>50%</td>\n",
       "      <td>3812.500000</td>\n",
       "      <td>1188.500000</td>\n",
       "      <td>128.000000</td>\n",
       "      <td>360.00000</td>\n",
       "      <td>1.000000</td>\n",
       "    </tr>\n",
       "    <tr>\n",
       "      <td>75%</td>\n",
       "      <td>5795.000000</td>\n",
       "      <td>2297.250000</td>\n",
       "      <td>168.000000</td>\n",
       "      <td>360.00000</td>\n",
       "      <td>1.000000</td>\n",
       "    </tr>\n",
       "    <tr>\n",
       "      <td>max</td>\n",
       "      <td>81000.000000</td>\n",
       "      <td>41667.000000</td>\n",
       "      <td>700.000000</td>\n",
       "      <td>480.00000</td>\n",
       "      <td>1.000000</td>\n",
       "    </tr>\n",
       "  </tbody>\n",
       "</table>\n",
       "</div>"
      ],
      "text/plain": [
       "       ApplicantIncome  CoapplicantIncome  LoanAmount  Loan_Amount_Term  \\\n",
       "count       614.000000         614.000000  592.000000         600.00000   \n",
       "mean       5403.459283        1621.245798  146.412162         342.00000   \n",
       "std        6109.041673        2926.248369   85.587325          65.12041   \n",
       "min         150.000000           0.000000    9.000000          12.00000   \n",
       "25%        2877.500000           0.000000  100.000000         360.00000   \n",
       "50%        3812.500000        1188.500000  128.000000         360.00000   \n",
       "75%        5795.000000        2297.250000  168.000000         360.00000   \n",
       "max       81000.000000       41667.000000  700.000000         480.00000   \n",
       "\n",
       "       Credit_History  \n",
       "count      564.000000  \n",
       "mean         0.842199  \n",
       "std          0.364878  \n",
       "min          0.000000  \n",
       "25%          1.000000  \n",
       "50%          1.000000  \n",
       "75%          1.000000  \n",
       "max          1.000000  "
      ]
     },
     "execution_count": 124,
     "metadata": {},
     "output_type": "execute_result"
    }
   ],
   "source": [
    "data.describe()"
   ]
  },
  {
   "cell_type": "code",
   "execution_count": 125,
   "metadata": {},
   "outputs": [
    {
     "data": {
      "text/plain": [
       "['ApplicantIncome',\n",
       " 'CoapplicantIncome',\n",
       " 'LoanAmount',\n",
       " 'Loan_Amount_Term',\n",
       " 'Credit_History']"
      ]
     },
     "execution_count": 125,
     "metadata": {},
     "output_type": "execute_result"
    }
   ],
   "source": [
    "# NUMERICAL COLUMN NAMES\n",
    "numeric_cols = [col for col in data.columns if data[col].dtype != 'object']\n",
    "numeric_cols"
   ]
  },
  {
   "cell_type": "code",
   "execution_count": 126,
   "metadata": {},
   "outputs": [
    {
     "data": {
      "text/plain": [
       "['Gender',\n",
       " 'Married',\n",
       " 'Dependents',\n",
       " 'Education',\n",
       " 'Self_Employed',\n",
       " 'Property_Area',\n",
       " 'Loan_Status']"
      ]
     },
     "execution_count": 126,
     "metadata": {},
     "output_type": "execute_result"
    }
   ],
   "source": [
    "# CATEGORICAL COLUMN NAMES\n",
    "categ_cols = [col for col in data.columns if data[col].dtype == 'object']\n",
    "categ_cols"
   ]
  },
  {
   "cell_type": "markdown",
   "metadata": {},
   "source": [
    "#### NUMERICAL DISTRIBUTIONS"
   ]
  },
  {
   "cell_type": "code",
   "execution_count": 127,
   "metadata": {},
   "outputs": [
    {
     "data": {
      "text/plain": [
       "array([[<matplotlib.axes._subplots.AxesSubplot object at 0x1a1cbcc890>,\n",
       "        <matplotlib.axes._subplots.AxesSubplot object at 0x1a1cbe9d10>],\n",
       "       [<matplotlib.axes._subplots.AxesSubplot object at 0x1a1cc27e10>,\n",
       "        <matplotlib.axes._subplots.AxesSubplot object at 0x1a1cd1aad0>],\n",
       "       [<matplotlib.axes._subplots.AxesSubplot object at 0x1a1ccadb10>,\n",
       "        <matplotlib.axes._subplots.AxesSubplot object at 0x1a1cc47cd0>]],\n",
       "      dtype=object)"
      ]
     },
     "execution_count": 127,
     "metadata": {},
     "output_type": "execute_result"
    },
    {
     "data": {
      "image/png": "[encoded data removed]",
      "text/plain": [
       "<Figure size 720x720 with 6 Axes>"
      ]
     },
     "metadata": {
      "needs_background": "light"
     },
     "output_type": "display_data"
    }
   ],
   "source": [
    "data.hist(column = numeric_cols, bins = 30, figsize=(10,10))"
   ]
  },
  {
   "cell_type": "code",
   "execution_count": null,
   "metadata": {},
   "outputs": [],
   "source": [
    "# NOTES:\n",
    "# OUTLIERS IN ApplicantIncome, CoapplicantIncome, LoanAmount"
   ]
  },
  {
   "cell_type": "code",
   "execution_count": 128,
   "metadata": {},
   "outputs": [
    {
     "data": {
      "text/plain": [
       "<matplotlib.axes._subplots.AxesSubplot at 0x1a1cef9cd0>"
      ]
     },
     "execution_count": 128,
     "metadata": {},
     "output_type": "execute_result"
    },
    {
     "data": {
      "image/png": "[encoded data removed]",
      "text/plain": [
       "<Figure size 432x288 with 1 Axes>"
      ]
     },
     "metadata": {
      "needs_background": "light"
     },
     "output_type": "display_data"
    }
   ],
   "source": [
    "#DEEPER EXPLORATION ApplicantIncome Column\n",
    "\n",
    "data['ApplicantIncome'].hist(bins = 50)"
   ]
  },
  {
   "cell_type": "code",
   "execution_count": 62,
   "metadata": {},
   "outputs": [
    {
     "data": {
      "text/plain": [
       "<matplotlib.axes._subplots.AxesSubplot at 0x1a267b2850>"
      ]
     },
     "execution_count": 62,
     "metadata": {},
     "output_type": "execute_result"
    },
    {
     "data": {
      "image/png": "[encoded data removed]",
      "text/plain": [
       "<Figure size 432x288 with 1 Axes>"
      ]
     },
     "metadata": {
      "needs_background": "light"
     },
     "output_type": "display_data"
    }
   ],
   "source": [
    "data.boxplot(column = 'ApplicantIncome')"
   ]
  },
  {
   "cell_type": "code",
   "execution_count": 63,
   "metadata": {},
   "outputs": [
    {
     "data": {
      "text/plain": [
       "<matplotlib.axes._subplots.AxesSubplot at 0x1a26805f50>"
      ]
     },
     "execution_count": 63,
     "metadata": {},
     "output_type": "execute_result"
    },
    {
     "data": {
      "image/png": "[encoded data removed]",
      "text/plain": [
       "<Figure size 432x288 with 1 Axes>"
      ]
     },
     "metadata": {
      "needs_background": "light"
     },
     "output_type": "display_data"
    }
   ],
   "source": [
    "data.boxplot(column = 'ApplicantIncome', by = 'Education')"
   ]
  },
  {
   "cell_type": "code",
   "execution_count": 65,
   "metadata": {},
   "outputs": [
    {
     "data": {
      "text/plain": [
       "<matplotlib.axes._subplots.AxesSubplot at 0x1a269b8d90>"
      ]
     },
     "execution_count": 65,
     "metadata": {},
     "output_type": "execute_result"
    },
    {
     "data": {
      "image/png": "[encoded data removed]",
      "text/plain": [
       "<Figure size 432x288 with 1 Axes>"
      ]
     },
     "metadata": {
      "needs_background": "light"
     },
     "output_type": "display_data"
    }
   ],
   "source": [
    "#DEEPER EXPLORATION CoapplicantIncome Column\n",
    "\n",
    "data['CoapplicantIncome'].hist(bins = 50)"
   ]
  },
  {
   "cell_type": "code",
   "execution_count": 66,
   "metadata": {},
   "outputs": [
    {
     "data": {
      "text/plain": [
       "<matplotlib.axes._subplots.AxesSubplot at 0x1a26a8bad0>"
      ]
     },
     "execution_count": 66,
     "metadata": {},
     "output_type": "execute_result"
    },
    {
     "data": {
      "image/png": "[encoded data removed]",
      "text/plain": [
       "<Figure size 432x288 with 1 Axes>"
      ]
     },
     "metadata": {
      "needs_background": "light"
     },
     "output_type": "display_data"
    }
   ],
   "source": [
    "data.boxplot(column = 'CoapplicantIncome')"
   ]
  },
  {
   "cell_type": "code",
   "execution_count": 67,
   "metadata": {},
   "outputs": [
    {
     "data": {
      "text/plain": [
       "<matplotlib.axes._subplots.AxesSubplot at 0x1a269eca90>"
      ]
     },
     "execution_count": 67,
     "metadata": {},
     "output_type": "execute_result"
    },
    {
     "data": {
      "image/png": "[encoded data removed]",
      "text/plain": [
       "<Figure size 432x288 with 1 Axes>"
      ]
     },
     "metadata": {
      "needs_background": "light"
     },
     "output_type": "display_data"
    }
   ],
   "source": [
    "data.boxplot(column = 'CoapplicantIncome', by = 'Education')"
   ]
  },
  {
   "cell_type": "code",
   "execution_count": 68,
   "metadata": {},
   "outputs": [
    {
     "data": {
      "text/plain": [
       "<matplotlib.axes._subplots.AxesSubplot at 0x1a26bfded0>"
      ]
     },
     "execution_count": 68,
     "metadata": {},
     "output_type": "execute_result"
    },
    {
     "data": {
      "image/png": "[encoded data removed]",
      "text/plain": [
       "<Figure size 432x288 with 1 Axes>"
      ]
     },
     "metadata": {
      "needs_background": "light"
     },
     "output_type": "display_data"
    }
   ],
   "source": [
    "#DEEPER EXPLORATION LoanAmount Column\n",
    "\n",
    "data['LoanAmount'].hist(bins = 50)"
   ]
  },
  {
   "cell_type": "code",
   "execution_count": 69,
   "metadata": {},
   "outputs": [
    {
     "data": {
      "text/plain": [
       "<matplotlib.axes._subplots.AxesSubplot at 0x1a26e81050>"
      ]
     },
     "execution_count": 69,
     "metadata": {},
     "output_type": "execute_result"
    },
    {
     "data": {
      "image/png": "[encoded data removed]",
      "text/plain": [
       "<Figure size 432x288 with 1 Axes>"
      ]
     },
     "metadata": {
      "needs_background": "light"
     },
     "output_type": "display_data"
    }
   ],
   "source": [
    "data.boxplot(column = 'LoanAmount')"
   ]
  },
  {
   "cell_type": "code",
   "execution_count": 75,
   "metadata": {},
   "outputs": [
    {
     "data": {
      "text/plain": [
       "<matplotlib.axes._subplots.AxesSubplot at 0x1a271421d0>"
      ]
     },
     "execution_count": 75,
     "metadata": {},
     "output_type": "execute_result"
    },
    {
     "data": {
      "image/png": "[encoded data removed]",
      "text/plain": [
       "<Figure size 432x288 with 1 Axes>"
      ]
     },
     "metadata": {
      "needs_background": "light"
     },
     "output_type": "display_data"
    }
   ],
   "source": [
    "data.boxplot(column = 'LoanAmount', by = 'Education')"
   ]
  },
  {
   "cell_type": "markdown",
   "metadata": {},
   "source": [
    "### CATEGORICAL DISTRIBUTIONS"
   ]
  },
  {
   "cell_type": "code",
   "execution_count": 89,
   "metadata": {},
   "outputs": [],
   "source": [
    "# COLOR PALATTE\n",
    "pkmn_type_colors = ['#78C850',  # Grass\n",
    "                    '#F08030',  # Fire\n",
    "                    '#6890F0',  # Water\n",
    "                    '#A8B820',  # Bug\n",
    "                    '#A8A878',  # Normal\n",
    "                    '#A040A0',  # Poison\n",
    "                    '#F8D030',  # Electric\n",
    "                    '#E0C068',  # Ground\n",
    "                    '#EE99AC',  # Fairy\n",
    "                    '#C03028',  # Fighting\n",
    "                    '#F85888',  # Psychic\n",
    "                    '#B8A038',  # Rock\n",
    "                    '#705898',  # Ghost\n",
    "                    '#98D8D8',  # Ice\n",
    "                    '#7038F8',  # Dragon\n",
    "                   ]"
   ]
  },
  {
   "cell_type": "code",
   "execution_count": 90,
   "metadata": {},
   "outputs": [
    {
     "data": {
      "text/plain": [
       "<matplotlib.axes._subplots.AxesSubplot at 0x1a27a76dd0>"
      ]
     },
     "execution_count": 90,
     "metadata": {},
     "output_type": "execute_result"
    },
    {
     "data": {
      "image/png": "[encoded data removed]",
      "text/plain": [
       "<Figure size 432x288 with 1 Axes>"
      ]
     },
     "metadata": {
      "needs_background": "light"
     },
     "output_type": "display_data"
    }
   ],
   "source": [
    "#GENDER BAR PLOT\n",
    "sns.countplot(y = 'Gender', data= data , palette=pkmn_type_colors)"
   ]
  },
  {
   "cell_type": "code",
   "execution_count": 129,
   "metadata": {},
   "outputs": [
    {
     "data": {
      "text/plain": [
       "['Gender',\n",
       " 'Married',\n",
       " 'Dependents',\n",
       " 'Education',\n",
       " 'Self_Employed',\n",
       " 'Property_Area',\n",
       " 'Loan_Status']"
      ]
     },
     "execution_count": 129,
     "metadata": {},
     "output_type": "execute_result"
    }
   ],
   "source": [
    "categ_cols"
   ]
  },
  {
   "cell_type": "code",
   "execution_count": 93,
   "metadata": {},
   "outputs": [
    {
     "data": {
      "text/plain": [
       "<matplotlib.axes._subplots.AxesSubplot at 0x1a27ce42d0>"
      ]
     },
     "execution_count": 93,
     "metadata": {},
     "output_type": "execute_result"
    },
    {
     "data": {
      "image/png": "[encoded data removed]",
      "text/plain": [
       "<Figure size 432x288 with 1 Axes>"
      ]
     },
     "metadata": {
      "needs_background": "light"
     },
     "output_type": "display_data"
    }
   ],
   "source": [
    "#MARRIED BAR PLOT\n",
    "sns.countplot(y = 'Married', data = data, palette = pkmn_type_colors)"
   ]
  },
  {
   "cell_type": "code",
   "execution_count": 94,
   "metadata": {},
   "outputs": [
    {
     "data": {
      "text/plain": [
       "<matplotlib.axes._subplots.AxesSubplot at 0x1a27ce4710>"
      ]
     },
     "execution_count": 94,
     "metadata": {},
     "output_type": "execute_result"
    },
    {
     "data": {
      "image/png": "[encoded data removed]",
      "text/plain": [
       "<Figure size 432x288 with 1 Axes>"
      ]
     },
     "metadata": {
      "needs_background": "light"
     },
     "output_type": "display_data"
    }
   ],
   "source": [
    "#DEPENDENTS BAR PLOT\n",
    "sns.countplot(y = 'Dependents', data = data, palette = pkmn_type_colors)"
   ]
  },
  {
   "cell_type": "code",
   "execution_count": 95,
   "metadata": {},
   "outputs": [
    {
     "data": {
      "text/plain": [
       "<matplotlib.axes._subplots.AxesSubplot at 0x1a27e8b4d0>"
      ]
     },
     "execution_count": 95,
     "metadata": {},
     "output_type": "execute_result"
    },
    {
     "data": {
      "image/png": "[encoded data removed]",
      "text/plain": [
       "<Figure size 432x288 with 1 Axes>"
      ]
     },
     "metadata": {
      "needs_background": "light"
     },
     "output_type": "display_data"
    }
   ],
   "source": [
    "#EDUCATION BAR PLOT\n",
    "sns.countplot(y = 'Education', data = data, palette = pkmn_type_colors)"
   ]
  },
  {
   "cell_type": "code",
   "execution_count": 96,
   "metadata": {},
   "outputs": [
    {
     "data": {
      "text/plain": [
       "<matplotlib.axes._subplots.AxesSubplot at 0x1a27e8bc50>"
      ]
     },
     "execution_count": 96,
     "metadata": {},
     "output_type": "execute_result"
    },
    {
     "data": {
      "image/png": "[encoded data removed]",
      "text/plain": [
       "<Figure size 432x288 with 1 Axes>"
      ]
     },
     "metadata": {
      "needs_background": "light"
     },
     "output_type": "display_data"
    }
   ],
   "source": [
    "#SELF-EMPLOYED BAR PLOT\n",
    "sns.countplot(y='Self_Employed', data = data, palette = pkmn_type_colors)"
   ]
  },
  {
   "cell_type": "code",
   "execution_count": 97,
   "metadata": {},
   "outputs": [
    {
     "data": {
      "text/plain": [
       "<matplotlib.axes._subplots.AxesSubplot at 0x1a280279d0>"
      ]
     },
     "execution_count": 97,
     "metadata": {},
     "output_type": "execute_result"
    },
    {
     "data": {
      "image/png": "[encoded data removed]",
      "text/plain": [
       "<Figure size 432x288 with 1 Axes>"
      ]
     },
     "metadata": {
      "needs_background": "light"
     },
     "output_type": "display_data"
    }
   ],
   "source": [
    "#PROPERTY AREA BAR PLOT\n",
    "sns.countplot(y = 'Property_Area', data = data, palette = pkmn_type_colors)"
   ]
  },
  {
   "cell_type": "code",
   "execution_count": 107,
   "metadata": {},
   "outputs": [
    {
     "data": {
      "text/plain": [
       "<matplotlib.axes._subplots.AxesSubplot at 0x1a28c75450>"
      ]
     },
     "execution_count": 107,
     "metadata": {},
     "output_type": "execute_result"
    },
    {
     "data": {
      "image/png": "[encoded data removed]",
      "text/plain": [
       "<Figure size 432x288 with 1 Axes>"
      ]
     },
     "metadata": {
      "needs_background": "light"
     },
     "output_type": "display_data"
    }
   ],
   "source": [
    "#LOAN STATUS BAR PLOT\n",
    "sns.countplot(y = 'Loan_Status', data = data, palette = pkmn_type_colors)"
   ]
  },
  {
   "cell_type": "markdown",
   "metadata": {},
   "source": [
    "##### BOX PLOTS"
   ]
  },
  {
   "cell_type": "code",
   "execution_count": 117,
   "metadata": {},
   "outputs": [
    {
     "data": {
      "text/plain": [
       "<matplotlib.axes._subplots.AxesSubplot at 0x1a2929bf10>"
      ]
     },
     "execution_count": 117,
     "metadata": {},
     "output_type": "execute_result"
    },
    {
     "data": {
      "image/png": "[encoded data removed]",
      "text/plain": [
       "<Figure size 720x720 with 1 Axes>"
      ]
     },
     "metadata": {
      "needs_background": "light"
     },
     "output_type": "display_data"
    }
   ],
   "source": [
    "import matplotlib.pyplot as plt\n",
    "fig = plt.figure(figsize=(10,10))\n",
    "\n",
    "sns.boxplot(data= data)"
   ]
  },
  {
   "cell_type": "markdown",
   "metadata": {},
   "source": [
    "##### CORRELATION"
   ]
  },
  {
   "cell_type": "code",
   "execution_count": 132,
   "metadata": {},
   "outputs": [],
   "source": [
    "#HEATMAP\n",
    "\n",
    "# positive correlation between LoanAmount and Applicantincome about 0.57"
   ]
  },
  {
   "cell_type": "code",
   "execution_count": 130,
   "metadata": {},
   "outputs": [],
   "source": [
    "#MAKING COPY OF EXISTING DATAFRAME AND TURNING ALL CATEGORICAL VALUES INTO NUMBER, SO I CAN SEE THE CORRELATIONS\n",
    "data2 = data.copy()\n",
    "data2['Married'] =data2['Married'].astype('category').cat.codes\n",
    "data2['Education'] =data2['Education'].astype('category').cat.codes\n",
    "data2['Self_Employed'] =data2['Self_Employed'].astype('category').cat.codes\n",
    "data2['Property_Area'] =data2['Property_Area'].astype('category').cat.codes\n",
    "data2['Loan_Status'] =data2['Loan_Status'].astype('category').cat.codes\n",
    "data2['Dependents'] =data2['Dependents'].astype('category').cat.codes\n",
    "data2['Gender'] =data2['Gender'].astype('category').cat.codes"
   ]
  },
  {
   "cell_type": "code",
   "execution_count": 131,
   "metadata": {},
   "outputs": [
    {
     "data": {
      "text/html": [
       "<div>\n",
       "<style scoped>\n",
       "    .dataframe tbody tr th:only-of-type {\n",
       "        vertical-align: middle;\n",
       "    }\n",
       "\n",
       "    .dataframe tbody tr th {\n",
       "        vertical-align: top;\n",
       "    }\n",
       "\n",
       "    .dataframe thead th {\n",
       "        text-align: right;\n",
       "    }\n",
       "</style>\n",
       "<table border=\"1\" class=\"dataframe\">\n",
       "  <thead>\n",
       "    <tr style=\"text-align: right;\">\n",
       "      <th></th>\n",
       "      <th>Gender</th>\n",
       "      <th>Married</th>\n",
       "      <th>Dependents</th>\n",
       "      <th>Education</th>\n",
       "      <th>Self_Employed</th>\n",
       "      <th>ApplicantIncome</th>\n",
       "      <th>CoapplicantIncome</th>\n",
       "      <th>LoanAmount</th>\n",
       "      <th>Loan_Amount_Term</th>\n",
       "      <th>Credit_History</th>\n",
       "      <th>Property_Area</th>\n",
       "      <th>Loan_Status</th>\n",
       "    </tr>\n",
       "  </thead>\n",
       "  <tbody>\n",
       "    <tr>\n",
       "      <td>Gender</td>\n",
       "      <td>1.000000</td>\n",
       "      <td>0.277459</td>\n",
       "      <td>0.109018</td>\n",
       "      <td>0.068774</td>\n",
       "      <td>-0.031116</td>\n",
       "      <td>-0.024689</td>\n",
       "      <td>0.073642</td>\n",
       "      <td>0.022476</td>\n",
       "      <td>-0.060937</td>\n",
       "      <td>0.034345</td>\n",
       "      <td>-0.008142</td>\n",
       "      <td>0.029040</td>\n",
       "    </tr>\n",
       "    <tr>\n",
       "      <td>Married</td>\n",
       "      <td>0.277459</td>\n",
       "      <td>1.000000</td>\n",
       "      <td>0.345269</td>\n",
       "      <td>0.022530</td>\n",
       "      <td>0.030171</td>\n",
       "      <td>0.047691</td>\n",
       "      <td>0.083270</td>\n",
       "      <td>0.144883</td>\n",
       "      <td>-0.104901</td>\n",
       "      <td>-0.003453</td>\n",
       "      <td>-0.003370</td>\n",
       "      <td>0.075547</td>\n",
       "    </tr>\n",
       "    <tr>\n",
       "      <td>Dependents</td>\n",
       "      <td>0.109018</td>\n",
       "      <td>0.345269</td>\n",
       "      <td>1.000000</td>\n",
       "      <td>0.051414</td>\n",
       "      <td>0.048221</td>\n",
       "      <td>0.115686</td>\n",
       "      <td>0.033955</td>\n",
       "      <td>0.166324</td>\n",
       "      <td>-0.103982</td>\n",
       "      <td>-0.025316</td>\n",
       "      <td>-0.009085</td>\n",
       "      <td>0.014263</td>\n",
       "    </tr>\n",
       "    <tr>\n",
       "      <td>Education</td>\n",
       "      <td>0.068774</td>\n",
       "      <td>0.022530</td>\n",
       "      <td>0.051414</td>\n",
       "      <td>1.000000</td>\n",
       "      <td>0.000820</td>\n",
       "      <td>-0.140760</td>\n",
       "      <td>-0.062290</td>\n",
       "      <td>-0.171133</td>\n",
       "      <td>-0.078784</td>\n",
       "      <td>-0.081822</td>\n",
       "      <td>-0.065243</td>\n",
       "      <td>-0.085884</td>\n",
       "    </tr>\n",
       "    <tr>\n",
       "      <td>Self_Employed</td>\n",
       "      <td>-0.031116</td>\n",
       "      <td>0.030171</td>\n",
       "      <td>0.048221</td>\n",
       "      <td>0.000820</td>\n",
       "      <td>1.000000</td>\n",
       "      <td>0.092967</td>\n",
       "      <td>-0.052384</td>\n",
       "      <td>0.083761</td>\n",
       "      <td>-0.017833</td>\n",
       "      <td>-0.038374</td>\n",
       "      <td>-0.028730</td>\n",
       "      <td>-0.011332</td>\n",
       "    </tr>\n",
       "    <tr>\n",
       "      <td>ApplicantIncome</td>\n",
       "      <td>-0.024689</td>\n",
       "      <td>0.047691</td>\n",
       "      <td>0.115686</td>\n",
       "      <td>-0.140760</td>\n",
       "      <td>0.092967</td>\n",
       "      <td>1.000000</td>\n",
       "      <td>-0.116605</td>\n",
       "      <td>0.570909</td>\n",
       "      <td>-0.045306</td>\n",
       "      <td>-0.014715</td>\n",
       "      <td>-0.009500</td>\n",
       "      <td>-0.004710</td>\n",
       "    </tr>\n",
       "    <tr>\n",
       "      <td>CoapplicantIncome</td>\n",
       "      <td>0.073642</td>\n",
       "      <td>0.083270</td>\n",
       "      <td>0.033955</td>\n",
       "      <td>-0.062290</td>\n",
       "      <td>-0.052384</td>\n",
       "      <td>-0.116605</td>\n",
       "      <td>1.000000</td>\n",
       "      <td>0.188619</td>\n",
       "      <td>-0.059878</td>\n",
       "      <td>-0.002056</td>\n",
       "      <td>0.010522</td>\n",
       "      <td>-0.059187</td>\n",
       "    </tr>\n",
       "    <tr>\n",
       "      <td>LoanAmount</td>\n",
       "      <td>0.022476</td>\n",
       "      <td>0.144883</td>\n",
       "      <td>0.166324</td>\n",
       "      <td>-0.171133</td>\n",
       "      <td>0.083761</td>\n",
       "      <td>0.570909</td>\n",
       "      <td>0.188619</td>\n",
       "      <td>1.000000</td>\n",
       "      <td>0.039447</td>\n",
       "      <td>-0.008433</td>\n",
       "      <td>-0.045792</td>\n",
       "      <td>-0.037318</td>\n",
       "    </tr>\n",
       "    <tr>\n",
       "      <td>Loan_Amount_Term</td>\n",
       "      <td>-0.060937</td>\n",
       "      <td>-0.104901</td>\n",
       "      <td>-0.103982</td>\n",
       "      <td>-0.078784</td>\n",
       "      <td>-0.017833</td>\n",
       "      <td>-0.045306</td>\n",
       "      <td>-0.059878</td>\n",
       "      <td>0.039447</td>\n",
       "      <td>1.000000</td>\n",
       "      <td>0.001470</td>\n",
       "      <td>-0.078748</td>\n",
       "      <td>-0.021268</td>\n",
       "    </tr>\n",
       "    <tr>\n",
       "      <td>Credit_History</td>\n",
       "      <td>0.034345</td>\n",
       "      <td>-0.003453</td>\n",
       "      <td>-0.025316</td>\n",
       "      <td>-0.081822</td>\n",
       "      <td>-0.038374</td>\n",
       "      <td>-0.014715</td>\n",
       "      <td>-0.002056</td>\n",
       "      <td>-0.008433</td>\n",
       "      <td>0.001470</td>\n",
       "      <td>1.000000</td>\n",
       "      <td>-0.001969</td>\n",
       "      <td>0.561678</td>\n",
       "    </tr>\n",
       "    <tr>\n",
       "      <td>Property_Area</td>\n",
       "      <td>-0.008142</td>\n",
       "      <td>-0.003370</td>\n",
       "      <td>-0.009085</td>\n",
       "      <td>-0.065243</td>\n",
       "      <td>-0.028730</td>\n",
       "      <td>-0.009500</td>\n",
       "      <td>0.010522</td>\n",
       "      <td>-0.045792</td>\n",
       "      <td>-0.078748</td>\n",
       "      <td>-0.001969</td>\n",
       "      <td>1.000000</td>\n",
       "      <td>0.032112</td>\n",
       "    </tr>\n",
       "    <tr>\n",
       "      <td>Loan_Status</td>\n",
       "      <td>0.029040</td>\n",
       "      <td>0.075547</td>\n",
       "      <td>0.014263</td>\n",
       "      <td>-0.085884</td>\n",
       "      <td>-0.011332</td>\n",
       "      <td>-0.004710</td>\n",
       "      <td>-0.059187</td>\n",
       "      <td>-0.037318</td>\n",
       "      <td>-0.021268</td>\n",
       "      <td>0.561678</td>\n",
       "      <td>0.032112</td>\n",
       "      <td>1.000000</td>\n",
       "    </tr>\n",
       "  </tbody>\n",
       "</table>\n",
       "</div>"
      ],
      "text/plain": [
       "                     Gender   Married  Dependents  Education  Self_Employed  \\\n",
       "Gender             1.000000  0.277459    0.109018   0.068774      -0.031116   \n",
       "Married            0.277459  1.000000    0.345269   0.022530       0.030171   \n",
       "Dependents         0.109018  0.345269    1.000000   0.051414       0.048221   \n",
       "Education          0.068774  0.022530    0.051414   1.000000       0.000820   \n",
       "Self_Employed     -0.031116  0.030171    0.048221   0.000820       1.000000   \n",
       "ApplicantIncome   -0.024689  0.047691    0.115686  -0.140760       0.092967   \n",
       "CoapplicantIncome  0.073642  0.083270    0.033955  -0.062290      -0.052384   \n",
       "LoanAmount         0.022476  0.144883    0.166324  -0.171133       0.083761   \n",
       "Loan_Amount_Term  -0.060937 -0.104901   -0.103982  -0.078784      -0.017833   \n",
       "Credit_History     0.034345 -0.003453   -0.025316  -0.081822      -0.038374   \n",
       "Property_Area     -0.008142 -0.003370   -0.009085  -0.065243      -0.028730   \n",
       "Loan_Status        0.029040  0.075547    0.014263  -0.085884      -0.011332   \n",
       "\n",
       "                   ApplicantIncome  CoapplicantIncome  LoanAmount  \\\n",
       "Gender                   -0.024689           0.073642    0.022476   \n",
       "Married                   0.047691           0.083270    0.144883   \n",
       "Dependents                0.115686           0.033955    0.166324   \n",
       "Education                -0.140760          -0.062290   -0.171133   \n",
       "Self_Employed             0.092967          -0.052384    0.083761   \n",
       "ApplicantIncome           1.000000          -0.116605    0.570909   \n",
       "CoapplicantIncome        -0.116605           1.000000    0.188619   \n",
       "LoanAmount                0.570909           0.188619    1.000000   \n",
       "Loan_Amount_Term         -0.045306          -0.059878    0.039447   \n",
       "Credit_History           -0.014715          -0.002056   -0.008433   \n",
       "Property_Area            -0.009500           0.010522   -0.045792   \n",
       "Loan_Status              -0.004710          -0.059187   -0.037318   \n",
       "\n",
       "                   Loan_Amount_Term  Credit_History  Property_Area  \\\n",
       "Gender                    -0.060937        0.034345      -0.008142   \n",
       "Married                   -0.104901       -0.003453      -0.003370   \n",
       "Dependents                -0.103982       -0.025316      -0.009085   \n",
       "Education                 -0.078784       -0.081822      -0.065243   \n",
       "Self_Employed             -0.017833       -0.038374      -0.028730   \n",
       "ApplicantIncome           -0.045306       -0.014715      -0.009500   \n",
       "CoapplicantIncome         -0.059878       -0.002056       0.010522   \n",
       "LoanAmount                 0.039447       -0.008433      -0.045792   \n",
       "Loan_Amount_Term           1.000000        0.001470      -0.078748   \n",
       "Credit_History             0.001470        1.000000      -0.001969   \n",
       "Property_Area             -0.078748       -0.001969       1.000000   \n",
       "Loan_Status               -0.021268        0.561678       0.032112   \n",
       "\n",
       "                   Loan_Status  \n",
       "Gender                0.029040  \n",
       "Married               0.075547  \n",
       "Dependents            0.014263  \n",
       "Education            -0.085884  \n",
       "Self_Employed        -0.011332  \n",
       "ApplicantIncome      -0.004710  \n",
       "CoapplicantIncome    -0.059187  \n",
       "LoanAmount           -0.037318  \n",
       "Loan_Amount_Term     -0.021268  \n",
       "Credit_History        0.561678  \n",
       "Property_Area         0.032112  \n",
       "Loan_Status           1.000000  "
      ]
     },
     "execution_count": 131,
     "metadata": {},
     "output_type": "execute_result"
    }
   ],
   "source": [
    "#CALCULATIG THE CORRELATION\n",
    "corr2 = data2.corr()\n",
    "corr2"
   ]
  },
  {
   "cell_type": "code",
   "execution_count": 132,
   "metadata": {},
   "outputs": [
    {
     "data": {
      "text/plain": [
       "<matplotlib.axes._subplots.AxesSubplot at 0x1a1d348190>"
      ]
     },
     "execution_count": 132,
     "metadata": {},
     "output_type": "execute_result"
    },
    {
     "data": {
      "image/png": "[encoded data removed]",
      "text/plain": [
       "<Figure size 432x288 with 2 Axes>"
      ]
     },
     "metadata": {
      "needs_background": "light"
     },
     "output_type": "display_data"
    }
   ],
   "source": [
    "#HEATMAP\n",
    "sns.heatmap(corr2)\n",
    "# NOTES:\n",
    "# -STRONG CORELLATION BETWEEN:\n",
    "#   *ApplicantIncome and LoanAmount 0.570909\n",
    "#   *Loan_Status and Credit_History 0.561678"
   ]
  },
  {
   "cell_type": "code",
   "execution_count": 133,
   "metadata": {},
   "outputs": [
    {
     "data": {
      "text/plain": [
       "<matplotlib.axes._subplots.AxesSubplot at 0x1a1d445d10>"
      ]
     },
     "execution_count": 133,
     "metadata": {},
     "output_type": "execute_result"
    },
    {
     "data": {
      "image/png": "[encoded data removed]",
      "text/plain": [
       "<Figure size 432x288 with 1 Axes>"
      ]
     },
     "metadata": {
      "needs_background": "light"
     },
     "output_type": "display_data"
    }
   ],
   "source": [
    "# Checking if education effects the loan approval\n",
    "sns.countplot(x = 'Education', hue=\"Loan_Status\", data=data)"
   ]
  },
  {
   "cell_type": "markdown",
   "metadata": {},
   "source": [
    "### MAKING BASELINE MODEL"
   ]
  },
  {
   "cell_type": "code",
   "execution_count": 134,
   "metadata": {},
   "outputs": [],
   "source": [
    "from sklearn.impute import SimpleImputer\n",
    "from sklearn.ensemble import RandomForestClassifier\n",
    "from sklearn.model_selection import train_test_split\n",
    "from sklearn.metrics import accuracy_score"
   ]
  },
  {
   "cell_type": "code",
   "execution_count": 424,
   "metadata": {},
   "outputs": [
    {
     "name": "stderr",
     "output_type": "stream",
     "text": [
      "/Users/berayhayrulah/opt/anaconda3/lib/python3.7/site-packages/sklearn/ensemble/forest.py:245: FutureWarning: The default value of n_estimators will change from 10 in version 0.20 to 100 in 0.22.\n",
      "  \"10 in version 0.20 to 100 in 0.22.\", FutureWarning)\n"
     ]
    },
    {
     "data": {
      "text/plain": [
       "0.5974025974025974"
      ]
     },
     "execution_count": 424,
     "metadata": {},
     "output_type": "execute_result"
    }
   ],
   "source": [
    "#Splitting data into X and y\n",
    "X = data.drop('Loan_Status', axis = 1)\n",
    "y = data['Loan_Status']\n",
    "\n",
    "#Selectin only numerical columns\n",
    "X_num = X.select_dtypes(exclude = 'object')\n",
    "\n",
    "#Checking for columns with missing value\n",
    "X_missing = [col for col in X_num if X_num[col].isnull().any()]\n",
    "\n",
    "#Selecting columns only with non missing values\n",
    "X_num_miss = X_num.drop(X_missing, axis = 1)\n",
    "\n",
    "\n",
    "#Modeling and getting score\n",
    "#Splitting data\n",
    "X_train2, X_valid2, y_train2, y_valid2 = train_test_split(X_num_miss, y, random_state = 0)\n",
    "    \n",
    "#Choosing a model\n",
    "model = RandomForestClassifier()\n",
    "    \n",
    "#Fitting the model\n",
    "model.fit(X_train2, y_train2)\n",
    "    \n",
    "#Predicting the model\n",
    "predictions = model.predict(X_valid2)\n",
    "    \n",
    "#The score\n",
    "accuracy_score(y_valid2, predictions)  # 0.538961038961039"
   ]
  },
  {
   "cell_type": "markdown",
   "metadata": {},
   "source": [
    "### Pre-processing"
   ]
  },
  {
   "cell_type": "markdown",
   "metadata": {},
   "source": [
    "##### Imputing missing values in numerical columns"
   ]
  },
  {
   "cell_type": "code",
   "execution_count": 425,
   "metadata": {},
   "outputs": [],
   "source": [
    "# This function uses randomforest for modeling classification algorithm and gives score\n",
    "# @param X_train, X_valid, y_train, y_valid splitted data to be trained and fitted to a model\n",
    "# @return accuracy_score, gives the score of predicted model\n",
    "#\n",
    "def model_and_score(X_train, X_valid, y_train, y_valid):\n",
    "    \n",
    "    #Choosing a model\n",
    "    #best hyperparameter values after testing\n",
    "    model = RandomForestClassifier(n_estimators = 100 ,max_depth = 7, random_state = 0)\n",
    "    \n",
    "    #Fitting the model\n",
    "    model.fit(X_train, y_train)\n",
    "    \n",
    "    #Predicting the model\n",
    "    predictions = model.predict(X_valid)\n",
    "    \n",
    "    #returning the score\n",
    "    return accuracy_score(y_valid, predictions)"
   ]
  },
  {
   "cell_type": "code",
   "execution_count": 426,
   "metadata": {},
   "outputs": [
    {
     "data": {
      "text/plain": [
       "0.8116883116883117"
      ]
     },
     "execution_count": 426,
     "metadata": {},
     "output_type": "execute_result"
    }
   ],
   "source": [
    "#Splitting data\n",
    "X_train, X_valid, y_train, y_valid = train_test_split(X, y, random_state = 0)\n",
    "\n",
    "\n",
    "#Selecting only numerical columns\n",
    "X_train_num = X_train.select_dtypes(exclude = 'object')\n",
    "X_valid_num = X_valid.select_dtypes(exclude = 'object')\n",
    "\n",
    "\n",
    "\n",
    "# Imputation object\n",
    "imputer_num = SimpleImputer(strategy = 'mean')\n",
    "\n",
    "# Imputation numerical columns\n",
    "imputed_X_train_num = pd.DataFrame(imputer_num.fit_transform(X_train_num))\n",
    "imputed_X_valid_num = pd.DataFrame(imputer_num.transform(X_valid_num))\n",
    "\n",
    "\n",
    "#Importing Scaling object\n",
    "from sklearn.preprocessing import StandardScaler\n",
    "scaler = StandardScaler()\n",
    "\n",
    "#Scaling the numerical values, to imporve performance\n",
    "imputed_X_train_num = pd.DataFrame(scaler.fit_transform(imputed_X_train_num))\n",
    "imputed_X_valid_num = pd.DataFrame(scaler.transform(imputed_X_valid_num))\n",
    "\n",
    "\n",
    "\n",
    "#Imputation and Scaline removes column names and index! We are putting them back\n",
    "imputed_X_train_num.columns = X_train_num.columns\n",
    "imputed_X_valid_num.columns = X_valid_num.columns\n",
    "\n",
    "imputed_X_train_num.index = X_train_num.index\n",
    "imputed_X_valid_num.index = X_valid_num.index\n",
    "\n",
    "\n",
    "\n",
    "#-------------------------------------------------------------\n",
    "\n",
    "#The score with numerical imputed columns\n",
    "model_and_score(imputed_X_train_num, imputed_X_valid_num, y_train, y_valid) # 0.8116883116883117 "
   ]
  },
  {
   "cell_type": "markdown",
   "metadata": {},
   "source": [
    "##### Imputing missing values in categorical columns"
   ]
  },
  {
   "cell_type": "code",
   "execution_count": 427,
   "metadata": {},
   "outputs": [
    {
     "name": "stderr",
     "output_type": "stream",
     "text": [
      "/Users/berayhayrulah/opt/anaconda3/lib/python3.7/site-packages/ipykernel_launcher.py:40: SettingWithCopyWarning: \n",
      "A value is trying to be set on a copy of a slice from a DataFrame.\n",
      "Try using .loc[row_indexer,col_indexer] = value instead\n",
      "\n",
      "See the caveats in the documentation: http://pandas.pydata.org/pandas-docs/stable/user_guide/indexing.html#returning-a-view-versus-a-copy\n",
      "/Users/berayhayrulah/opt/anaconda3/lib/python3.7/site-packages/ipykernel_launcher.py:41: SettingWithCopyWarning: \n",
      "A value is trying to be set on a copy of a slice from a DataFrame.\n",
      "Try using .loc[row_indexer,col_indexer] = value instead\n",
      "\n",
      "See the caveats in the documentation: http://pandas.pydata.org/pandas-docs/stable/user_guide/indexing.html#returning-a-view-versus-a-copy\n"
     ]
    },
    {
     "data": {
      "text/plain": [
       "0.8311688311688312"
      ]
     },
     "execution_count": 427,
     "metadata": {},
     "output_type": "execute_result"
    }
   ],
   "source": [
    "from sklearn.preprocessing import LabelEncoder\n",
    "\n",
    "#Selecting only categorical columns\n",
    "X_train_cat = X_train.select_dtypes(include = 'object')\n",
    "X_valid_cat = X_valid.select_dtypes(include = 'object')\n",
    "\n",
    "# Imputation object\n",
    "imputer_cat = SimpleImputer(strategy = 'most_frequent')\n",
    "\n",
    "# Imputation missing categorical columns with most frequent value\n",
    "imputed_X_train_cat = pd.DataFrame(imputer_cat.fit_transform(X_train_cat))\n",
    "imputed_X_valid_cat = pd.DataFrame(imputer_cat.transform(X_valid_cat))\n",
    "\n",
    "#Imputation removes column names! We are putting them back\n",
    "imputed_X_train_cat.columns = X_train_cat.columns\n",
    "imputed_X_valid_cat.columns = X_valid_cat.columns\n",
    "\n",
    "imputed_X_train_cat.index = X_train_cat.index\n",
    "imputed_X_valid_cat.index = X_valid_cat.index\n",
    "\n",
    "#Check missing values in the imputed dataframe\n",
    "imputed_X_train_cat.apply(lambda x: sum(x.isnull()), axis = 0)\n",
    "\n",
    "#printing value counts on each columns to understand which columns are nominal and ordinal\n",
    "#for col in imputed_X_train_cat.columns:\n",
    "    #print(imputed_X_train_cat[col].value_counts())\n",
    "    #print()\n",
    "\n",
    "#-----------------------------------------------------\n",
    "#columns with LabelEncoding \n",
    "label = ['Dependents', 'Property_Area']\n",
    "\n",
    "#getting columns 'Dependets' and 'Property_Area' only\n",
    "label_col_train = imputed_X_train_cat[label]\n",
    "label_col_valid = imputed_X_valid_cat[label]\n",
    "\n",
    "# Apply label encoder to each ordinal column in categorical data\n",
    "label_encoder = LabelEncoder()\n",
    "for col in label_col_train:\n",
    "    label_col_train[col] = label_encoder.fit_transform(label_col_train[col])\n",
    "    label_col_valid[col] = label_encoder.transform(label_col_valid[col])\n",
    "\n",
    "label_col_train\n",
    "label_col_valid\n",
    "\n",
    "\n",
    "#-----------------------------------------------------\n",
    "#Getting dummy variables\n",
    "imputed_X_train_cat_dummies = pd.get_dummies(imputed_X_train_cat.drop(label, axis = 1))\n",
    "imputed_X_valid_cat_dummies = pd.get_dummies(imputed_X_valid_cat.drop(label, axis = 1))\n",
    "model_and_score(imputed_X_train_cat_dummies, imputed_X_valid_cat_dummies, y_train, y_valid)\n",
    "#0.7272727272727273\n",
    "\n",
    "#------------------------------------------------------\n",
    "#Concatinating ordinal and nominal categorical columns\n",
    "final_train_categ = pd.concat([imputed_X_train_cat_dummies, label_col_train], axis=1, sort=False)\n",
    "final_valid_categ = pd.concat([imputed_X_valid_cat_dummies, label_col_valid], axis=1, sort=False)\n",
    "model_and_score(final_train_categ, final_valid_categ, y_train, y_valid)\n",
    "#0.7337662337662337\n",
    "\n",
    "\n",
    "\n",
    "#------------------------------------------------------\n",
    "#Concatinating numerical and categorical columns\n",
    "final_data_train = pd.concat([imputed_X_train_num, final_train_categ], axis=1, sort=False)\n",
    "final_data_valid = pd.concat([imputed_X_valid_num, final_valid_categ], axis=1, sort=False)\n",
    "\n",
    "#The score with numerical imputed columns and with dummie variables\n",
    "model_and_score(final_data_train, final_data_valid, y_train, y_valid)\n",
    "#0.8311688311688312\n",
    "\n"
   ]
  },
  {
   "cell_type": "code",
   "execution_count": 428,
   "metadata": {},
   "outputs": [
    {
     "name": "stdout",
     "output_type": "stream",
     "text": [
      "Baseline score: 0.5974025974025974\n",
      "The score with only numerical values: 0.8116883116883117\n",
      "The score with only dummy variables: 0.6883116883116883\n",
      "The score with dummy and label encoded categorical variables: 0.7597402597402597\n",
      "The score with numerical, dummy and label encoded categorical variables: 0.8311688311688312\n"
     ]
    }
   ],
   "source": [
    "#-- ALL SCORES --#\n",
    "\n",
    "print('Baseline score: {}'.format(accuracy_score(y_valid2, predictions)))\n",
    "print('The score with only numerical values: {}'.format(model_and_score(imputed_X_train_num, imputed_X_valid_num, y_train, y_valid)))\n",
    "print('The score with only dummy variables: {}'.format(model_and_score(imputed_X_train_cat_dummies, imputed_X_valid_cat_dummies, y_train, y_valid)))\n",
    "print('The score with dummy and label encoded categorical variables: {}'.format(model_and_score(final_train_categ, final_valid_categ, y_train, y_valid)))\n",
    "print('The score with numerical, dummy and label encoded categorical variables: {}'.format(model_and_score(final_data_train, final_data_valid, y_train, y_valid)))\n"
   ]
  },
  {
   "cell_type": "markdown",
   "metadata": {},
   "source": [
    "### MODELLING WITH PIPELINE"
   ]
  },
  {
   "cell_type": "code",
   "execution_count": 347,
   "metadata": {},
   "outputs": [],
   "source": [
    "from sklearn.compose import ColumnTransformer\n",
    "from sklearn.pipeline import Pipeline\n",
    "from sklearn.impute import SimpleImputer\n",
    "from sklearn.preprocessing import OneHotEncoder\n"
   ]
  },
  {
   "cell_type": "code",
   "execution_count": 354,
   "metadata": {},
   "outputs": [
    {
     "name": "stdout",
     "output_type": "stream",
     "text": [
      "0.8311688311688312\n"
     ]
    }
   ],
   "source": [
    "# Preprocessing for numerical data\n",
    "numerical_transformer = SimpleImputer(strategy = 'mean')\n",
    "\n",
    "# Preprocessing for categorical data\n",
    "categorical_transformer = Pipeline(steps=[\n",
    "    ('imputer', SimpleImputer(strategy='most_frequent')),\n",
    "    ('onehot', OneHotEncoder(handle_unknown='ignore'))\n",
    "])\n",
    "\n",
    "categ_col_names = ['Gender', 'Married', 'Dependents', 'Education', 'Self_Employed', 'Property_Area']\n",
    "\n",
    "# Bundle preprocessing for numerical and categorical data\n",
    "preprocessor = ColumnTransformer(\n",
    "    transformers=[\n",
    "        ('num', numerical_transformer, list(X_train_num.columns)),\n",
    "        ('cat', categorical_transformer, categ_col_names)])\n",
    "\n",
    "#Choosing a model\n",
    "#best hyperparameter values after testing\n",
    "model = RandomForestClassifier(n_estimators = 100 ,max_depth = 7, random_state = 0)\n",
    "\n",
    "# Bundle preprocessing and modeling code in a pipeline\n",
    "my_pipeline = Pipeline(steps=[('preprocessor', preprocessor),\n",
    "                              ('model', model)\n",
    "                             ])\n",
    "\n",
    "# Preprocessing of training data, fit model \n",
    "my_pipeline.fit(X_train, y_train)\n",
    "\n",
    "# Preprocessing of validation data, get predictions\n",
    "preds = my_pipeline.predict(X_valid)\n",
    "\n",
    "\n",
    "# Evaluate the model\n",
    "score2 = accuracy_score(y_valid, preds)\n",
    "print(score2)\n",
    "\n",
    "\n"
   ]
  },
  {
   "cell_type": "markdown",
   "metadata": {},
   "source": [
    "### xgboost modelling"
   ]
  },
  {
   "cell_type": "code",
   "execution_count": 499,
   "metadata": {},
   "outputs": [
    {
     "name": "stdout",
     "output_type": "stream",
     "text": [
      "Test Accuracy:  0.8571428571428571\n"
     ]
    }
   ],
   "source": [
    "import xgboost as xgb\n",
    "# Create XGB Classifier object\n",
    "xgb_clf = xgb.XGBClassifier(n_estimators=1000, learning_rate=0.06)\n",
    "# Fit model\n",
    "xgb_model = xgb_clf.fit(final_data_train, y_train)\n",
    "\n",
    "# Predictions\n",
    "y_test_preds = xgb_model.predict(final_data_valid)\n",
    "\n",
    "print(\"Test Accuracy: \", accuracy_score(y_valid, y_test_preds))\n",
    "\n"
   ]
  },
  {
   "cell_type": "code",
   "execution_count": 432,
   "metadata": {},
   "outputs": [
    {
     "name": "stdout",
     "output_type": "stream",
     "text": [
      "Baseline score: 0.5974025974025974\n",
      "The score with only numerical values: 0.8116883116883117\n",
      "The score with only dummy variables: 0.6883116883116883\n",
      "The score with dummy and label encoded categorical variables: 0.7597402597402597\n",
      "The score with numerical, dummy and label encoded categorical variables: 0.8311688311688312\n",
      "The score with XGboosting: 0.8571428571428571\n"
     ]
    }
   ],
   "source": [
    "#-- ALL SCORES --#\n",
    "\n",
    "print('Baseline score: {}'.format(accuracy_score(y_valid2, predictions)))\n",
    "print('The score with only numerical values: {}'.format(model_and_score(imputed_X_train_num, imputed_X_valid_num, y_train, y_valid)))\n",
    "print('The score with only dummy variables: {}'.format(model_and_score(imputed_X_train_cat_dummies, imputed_X_valid_cat_dummies, y_train, y_valid)))\n",
    "print('The score with dummy and label encoded categorical variables: {}'.format(model_and_score(final_train_categ, final_valid_categ, y_train, y_valid)))\n",
    "print('The score with numerical, dummy and label encoded categorical variables: {}'.format(model_and_score(final_data_train, final_data_valid, y_train, y_valid)))\n",
    "print(\"The score with XGboosting:\", accuracy_score(y_valid, y_test_preds))"
   ]
  },
  {
   "cell_type": "markdown",
   "metadata": {},
   "source": [
    "### Loading and Testing the Test set"
   ]
  },
  {
   "cell_type": "code",
   "execution_count": 505,
   "metadata": {},
   "outputs": [
    {
     "name": "stderr",
     "output_type": "stream",
     "text": [
      "/Users/berayhayrulah/opt/anaconda3/lib/python3.7/site-packages/ipykernel_launcher.py:62: SettingWithCopyWarning: \n",
      "A value is trying to be set on a copy of a slice from a DataFrame.\n",
      "Try using .loc[row_indexer,col_indexer] = value instead\n",
      "\n",
      "See the caveats in the documentation: http://pandas.pydata.org/pandas-docs/stable/user_guide/indexing.html#returning-a-view-versus-a-copy\n"
     ]
    }
   ],
   "source": [
    "#Loading data set\n",
    "test_csv = pd.read_csv('test.csv', index_col = 'Loan_ID')\n",
    "\n",
    "#-----------------------------------------------------------#\n",
    "\n",
    "#numerical features only\n",
    "test_num = test_csv.select_dtypes(exclude = 'object')\n",
    "\n",
    "\n",
    "# Imputation object\n",
    "imputer_num = SimpleImputer(strategy = 'mean')\n",
    "\n",
    "\n",
    "# Imputation numerical columns\n",
    "test_num = pd.DataFrame(imputer_num.fit_transform(test_num))\n",
    "\n",
    "\n",
    "#Importing Scaling object\n",
    "from sklearn.preprocessing import StandardScaler\n",
    "scaler = StandardScaler()\n",
    "\n",
    "#Scaling the numerical values, to imporve performance\n",
    "test_num = pd.DataFrame(scaler.fit_transform(test_num))\n",
    "\n",
    "\n",
    "#Imputation and Scaline removes column names and index! We are putting them back\n",
    "test_num.columns = test_csv.select_dtypes(exclude = 'object').columns\n",
    "test_num.index = test_csv.select_dtypes(exclude = 'object').index\n",
    "\n",
    "#-----------------------------------------------------------#\n",
    "from sklearn.preprocessing import LabelEncoder\n",
    "\n",
    "#Categorical features only\n",
    "test_cat = test_csv.select_dtypes(include = 'object')\n",
    "\n",
    "# Imputation object\n",
    "imputer_cat = SimpleImputer(strategy = 'most_frequent')\n",
    "\n",
    "# Imputation missing categorical columns with most frequent value\n",
    "test_cat = pd.DataFrame(imputer_cat.fit_transform(test_cat))\n",
    "\n",
    "#Imputation removes column names! We are putting them back\n",
    "test_cat.columns = test_csv.select_dtypes(include = 'object').columns\n",
    "test_cat.index = test_csv.select_dtypes(include = 'object').index\n",
    "\n",
    "#Check missing values in the imputed dataframe\n",
    "test_cat.apply(lambda x: sum(x.isnull()), axis = 0)\n",
    "\n",
    "\n",
    "#columns with LabelEncoding \n",
    "label_e = ['Dependents', 'Property_Area']\n",
    "\n",
    "\n",
    "#getting columns 'Dependets' and 'Property_Area' only\n",
    "label_col_test = test_cat[label_e]\n",
    "\n",
    "\n",
    "\n",
    "# Apply label encoder to each ordinal column in categorical data\n",
    "label_encoder = LabelEncoder()\n",
    "for col in label_col_test:\n",
    "    label_col_test[col] = label_encoder.fit_transform(label_col_test[col])\n",
    "    \n",
    "\n",
    "#Getting dummy variables in nominal columns in categorical data\n",
    "dummy_columns = pd.get_dummies(test_cat.drop(label_e, axis = 1))\n",
    "\n",
    "\n",
    "#Concatinating ordinal and nominal categorical columns\n",
    "test_cat_all = pd.concat([dummy_columns, label_col_test], axis =1, sort = False)\n",
    "\n",
    "#-----------------------------------------------------------#\n",
    "\n",
    "#Concatinating numerical and categorical columns\n",
    "test_data_all = pd.concat([test_num, test_cat_all], axis = 1, sort = False)\n",
    "\n",
    "#-----------------------------------------------------------#\n",
    "\n",
    "#Choosing the best model from testing which is XGboost\n",
    "final_model = xgb_model\n",
    "final_prediction = final_model.predict(test_data_all)\n",
    "\n",
    "#Making dataframe with Loan_Id and Loan_Status\n",
    "output = pd.DataFrame({'Loan_ID': test_data_all.index, 'Loan_Status': final_prediction})\n",
    "\n",
    "output.to_csv('submission.csv', index=False)\n",
    "\n"
   ]
  },
  {
   "cell_type": "code",
   "execution_count": null,
   "metadata": {},
   "outputs": [],
   "source": []
  },
  {
   "cell_type": "code",
   "execution_count": null,
   "metadata": {},
   "outputs": [],
   "source": []
  },
  {
   "cell_type": "code",
   "execution_count": null,
   "metadata": {},
   "outputs": [],
   "source": []
  }
 ],
 "metadata": {
  "kernelspec": {
   "display_name": "Python 3",
   "language": "python",
   "name": "python3"
  },
  "language_info": {
   "codemirror_mode": {
    "name": "ipython",
    "version": 3
   },
   "file_extension": ".py",
   "mimetype": "text/x-python",
   "name": "python",
   "nbconvert_exporter": "python",
   "pygments_lexer": "ipython3",
   "version": "3.7.4"
  }
 },
 "nbformat": 4,
 "nbformat_minor": 2
}
